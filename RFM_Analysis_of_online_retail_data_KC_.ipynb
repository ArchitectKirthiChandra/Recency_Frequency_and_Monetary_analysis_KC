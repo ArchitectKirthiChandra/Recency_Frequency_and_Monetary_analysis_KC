{
 "cells": [
  {
   "cell_type": "markdown",
   "id": "d6178035",
   "metadata": {},
   "source": [
    "# Recency_Frequency_and_Monetary_analysis"
   ]
  },
  {
   "cell_type": "code",
   "execution_count": 157,
   "id": "1472fe2e",
   "metadata": {},
   "outputs": [
    {
     "data": {
      "text/html": [
       "<div>\n",
       "<style scoped>\n",
       "    .dataframe tbody tr th:only-of-type {\n",
       "        vertical-align: middle;\n",
       "    }\n",
       "\n",
       "    .dataframe tbody tr th {\n",
       "        vertical-align: top;\n",
       "    }\n",
       "\n",
       "    .dataframe thead th {\n",
       "        text-align: right;\n",
       "    }\n",
       "</style>\n",
       "<table border=\"1\" class=\"dataframe\">\n",
       "  <thead>\n",
       "    <tr style=\"text-align: right;\">\n",
       "      <th></th>\n",
       "      <th>Invoice</th>\n",
       "      <th>StockCode</th>\n",
       "      <th>Description</th>\n",
       "      <th>Quantity</th>\n",
       "      <th>InvoiceDate</th>\n",
       "      <th>Price</th>\n",
       "      <th>Customer ID</th>\n",
       "      <th>Country</th>\n",
       "    </tr>\n",
       "  </thead>\n",
       "  <tbody>\n",
       "    <tr>\n",
       "      <th>0</th>\n",
       "      <td>489434</td>\n",
       "      <td>85048</td>\n",
       "      <td>15CM CHRISTMAS GLASS BALL 20 LIGHTS</td>\n",
       "      <td>12</td>\n",
       "      <td>1.12.2009 07:45</td>\n",
       "      <td>6,95</td>\n",
       "      <td>13085.0</td>\n",
       "      <td>United Kingdom</td>\n",
       "    </tr>\n",
       "    <tr>\n",
       "      <th>1</th>\n",
       "      <td>489434</td>\n",
       "      <td>79323P</td>\n",
       "      <td>PINK CHERRY LIGHTS</td>\n",
       "      <td>12</td>\n",
       "      <td>1.12.2009 07:45</td>\n",
       "      <td>6,75</td>\n",
       "      <td>13085.0</td>\n",
       "      <td>United Kingdom</td>\n",
       "    </tr>\n",
       "    <tr>\n",
       "      <th>2</th>\n",
       "      <td>489434</td>\n",
       "      <td>79323W</td>\n",
       "      <td>WHITE CHERRY LIGHTS</td>\n",
       "      <td>12</td>\n",
       "      <td>1.12.2009 07:45</td>\n",
       "      <td>6,75</td>\n",
       "      <td>13085.0</td>\n",
       "      <td>United Kingdom</td>\n",
       "    </tr>\n",
       "    <tr>\n",
       "      <th>3</th>\n",
       "      <td>489434</td>\n",
       "      <td>22041</td>\n",
       "      <td>RECORD FRAME 7\" SINGLE SIZE</td>\n",
       "      <td>48</td>\n",
       "      <td>1.12.2009 07:45</td>\n",
       "      <td>2,1</td>\n",
       "      <td>13085.0</td>\n",
       "      <td>United Kingdom</td>\n",
       "    </tr>\n",
       "    <tr>\n",
       "      <th>4</th>\n",
       "      <td>489434</td>\n",
       "      <td>21232</td>\n",
       "      <td>STRAWBERRY CERAMIC TRINKET BOX</td>\n",
       "      <td>24</td>\n",
       "      <td>1.12.2009 07:45</td>\n",
       "      <td>1,25</td>\n",
       "      <td>13085.0</td>\n",
       "      <td>United Kingdom</td>\n",
       "    </tr>\n",
       "  </tbody>\n",
       "</table>\n",
       "</div>"
      ],
      "text/plain": [
       "  Invoice StockCode                          Description  Quantity  \\\n",
       "0  489434     85048  15CM CHRISTMAS GLASS BALL 20 LIGHTS        12   \n",
       "1  489434    79323P                   PINK CHERRY LIGHTS        12   \n",
       "2  489434    79323W                  WHITE CHERRY LIGHTS        12   \n",
       "3  489434     22041         RECORD FRAME 7\" SINGLE SIZE         48   \n",
       "4  489434     21232       STRAWBERRY CERAMIC TRINKET BOX        24   \n",
       "\n",
       "       InvoiceDate Price  Customer ID         Country  \n",
       "0  1.12.2009 07:45  6,95      13085.0  United Kingdom  \n",
       "1  1.12.2009 07:45  6,75      13085.0  United Kingdom  \n",
       "2  1.12.2009 07:45  6,75      13085.0  United Kingdom  \n",
       "3  1.12.2009 07:45   2,1      13085.0  United Kingdom  \n",
       "4  1.12.2009 07:45  1,25      13085.0  United Kingdom  "
      ]
     },
     "execution_count": 157,
     "metadata": {},
     "output_type": "execute_result"
    }
   ],
   "source": [
    "import pandas as pd\n",
    "df = pd.read_csv(\"retail.csv\")\n",
    "df.head(5)"
   ]
  },
  {
   "cell_type": "markdown",
   "id": "ee82239f",
   "metadata": {},
   "source": [
    "# EDA"
   ]
  },
  {
   "cell_type": "code",
   "execution_count": 158,
   "id": "4c8e39c3",
   "metadata": {},
   "outputs": [
    {
     "data": {
      "text/plain": [
       "(1048575, 8)"
      ]
     },
     "execution_count": 158,
     "metadata": {},
     "output_type": "execute_result"
    }
   ],
   "source": [
    "df.shape"
   ]
  },
  {
   "cell_type": "code",
   "execution_count": 159,
   "id": "69d7db70",
   "metadata": {},
   "outputs": [
    {
     "data": {
      "text/html": [
       "<div>\n",
       "<style scoped>\n",
       "    .dataframe tbody tr th:only-of-type {\n",
       "        vertical-align: middle;\n",
       "    }\n",
       "\n",
       "    .dataframe tbody tr th {\n",
       "        vertical-align: top;\n",
       "    }\n",
       "\n",
       "    .dataframe thead th {\n",
       "        text-align: right;\n",
       "    }\n",
       "</style>\n",
       "<table border=\"1\" class=\"dataframe\">\n",
       "  <thead>\n",
       "    <tr style=\"text-align: right;\">\n",
       "      <th></th>\n",
       "      <th>Quantity</th>\n",
       "      <th>Customer ID</th>\n",
       "    </tr>\n",
       "  </thead>\n",
       "  <tbody>\n",
       "    <tr>\n",
       "      <th>count</th>\n",
       "      <td>1.048575e+06</td>\n",
       "      <td>811893.000000</td>\n",
       "    </tr>\n",
       "    <tr>\n",
       "      <th>mean</th>\n",
       "      <td>9.957525e+00</td>\n",
       "      <td>15324.712265</td>\n",
       "    </tr>\n",
       "    <tr>\n",
       "      <th>std</th>\n",
       "      <td>1.335187e+02</td>\n",
       "      <td>1697.033034</td>\n",
       "    </tr>\n",
       "    <tr>\n",
       "      <th>min</th>\n",
       "      <td>-7.421500e+04</td>\n",
       "      <td>12346.000000</td>\n",
       "    </tr>\n",
       "    <tr>\n",
       "      <th>25%</th>\n",
       "      <td>1.000000e+00</td>\n",
       "      <td>13971.000000</td>\n",
       "    </tr>\n",
       "    <tr>\n",
       "      <th>50%</th>\n",
       "      <td>3.000000e+00</td>\n",
       "      <td>15260.000000</td>\n",
       "    </tr>\n",
       "    <tr>\n",
       "      <th>75%</th>\n",
       "      <td>1.000000e+01</td>\n",
       "      <td>16795.000000</td>\n",
       "    </tr>\n",
       "    <tr>\n",
       "      <th>max</th>\n",
       "      <td>7.421500e+04</td>\n",
       "      <td>18287.000000</td>\n",
       "    </tr>\n",
       "  </tbody>\n",
       "</table>\n",
       "</div>"
      ],
      "text/plain": [
       "           Quantity    Customer ID\n",
       "count  1.048575e+06  811893.000000\n",
       "mean   9.957525e+00   15324.712265\n",
       "std    1.335187e+02    1697.033034\n",
       "min   -7.421500e+04   12346.000000\n",
       "25%    1.000000e+00   13971.000000\n",
       "50%    3.000000e+00   15260.000000\n",
       "75%    1.000000e+01   16795.000000\n",
       "max    7.421500e+04   18287.000000"
      ]
     },
     "execution_count": 159,
     "metadata": {},
     "output_type": "execute_result"
    }
   ],
   "source": [
    "df.describe() # There are around 811893 customers only out of 1048575"
   ]
  },
  {
   "cell_type": "code",
   "execution_count": 160,
   "id": "64068e8c",
   "metadata": {},
   "outputs": [
    {
     "data": {
      "text/html": [
       "<div>\n",
       "<style scoped>\n",
       "    .dataframe tbody tr th:only-of-type {\n",
       "        vertical-align: middle;\n",
       "    }\n",
       "\n",
       "    .dataframe tbody tr th {\n",
       "        vertical-align: top;\n",
       "    }\n",
       "\n",
       "    .dataframe thead th {\n",
       "        text-align: right;\n",
       "    }\n",
       "</style>\n",
       "<table border=\"1\" class=\"dataframe\">\n",
       "  <thead>\n",
       "    <tr style=\"text-align: right;\">\n",
       "      <th></th>\n",
       "      <th>Invoice</th>\n",
       "      <th>StockCode</th>\n",
       "      <th>Description</th>\n",
       "      <th>InvoiceDate</th>\n",
       "      <th>Price</th>\n",
       "      <th>Country</th>\n",
       "    </tr>\n",
       "  </thead>\n",
       "  <tbody>\n",
       "    <tr>\n",
       "      <th>count</th>\n",
       "      <td>1048575</td>\n",
       "      <td>1048575</td>\n",
       "      <td>1044203</td>\n",
       "      <td>1048575</td>\n",
       "      <td>1048575</td>\n",
       "      <td>1048575</td>\n",
       "    </tr>\n",
       "    <tr>\n",
       "      <th>unique</th>\n",
       "      <td>52961</td>\n",
       "      <td>5304</td>\n",
       "      <td>5697</td>\n",
       "      <td>47046</td>\n",
       "      <td>2784</td>\n",
       "      <td>43</td>\n",
       "    </tr>\n",
       "    <tr>\n",
       "      <th>top</th>\n",
       "      <td>537434</td>\n",
       "      <td>85123A</td>\n",
       "      <td>WHITE HANGING HEART T-LIGHT HOLDER</td>\n",
       "      <td>6.12.2010 16:57</td>\n",
       "      <td>1,25</td>\n",
       "      <td>United Kingdom</td>\n",
       "    </tr>\n",
       "    <tr>\n",
       "      <th>freq</th>\n",
       "      <td>1350</td>\n",
       "      <td>5781</td>\n",
       "      <td>5875</td>\n",
       "      <td>1350</td>\n",
       "      <td>102704</td>\n",
       "      <td>963819</td>\n",
       "    </tr>\n",
       "  </tbody>\n",
       "</table>\n",
       "</div>"
      ],
      "text/plain": [
       "        Invoice StockCode                         Description  \\\n",
       "count   1048575   1048575                             1044203   \n",
       "unique    52961      5304                                5697   \n",
       "top      537434    85123A  WHITE HANGING HEART T-LIGHT HOLDER   \n",
       "freq       1350      5781                                5875   \n",
       "\n",
       "            InvoiceDate    Price         Country  \n",
       "count           1048575  1048575         1048575  \n",
       "unique            47046     2784              43  \n",
       "top     6.12.2010 16:57     1,25  United Kingdom  \n",
       "freq               1350   102704          963819  "
      ]
     },
     "execution_count": 160,
     "metadata": {},
     "output_type": "execute_result"
    }
   ],
   "source": [
    "df.describe(include = 'object')"
   ]
  },
  {
   "cell_type": "code",
   "execution_count": 161,
   "id": "147ad830",
   "metadata": {},
   "outputs": [
    {
     "name": "stdout",
     "output_type": "stream",
     "text": [
      "INVOICE\n",
      "*********************************************\n",
      "The Number of Unique Columns are:  52961\n",
      "*********************************************\n",
      "<bound method IndexOpsMixin.value_counts of 0          489434\n",
      "1          489434\n",
      "2          489434\n",
      "3          489434\n",
      "4          489434\n",
      "            ...  \n",
      "1048570    580501\n",
      "1048571    580501\n",
      "1048572    580502\n",
      "1048573    580502\n",
      "1048574    580502\n",
      "Name: Invoice, Length: 1048575, dtype: object>\n",
      "*********************************************\n",
      "STOCKCODE\n",
      "*********************************************\n",
      "The Number of Unique Columns are:  5304\n",
      "*********************************************\n",
      "<bound method IndexOpsMixin.value_counts of 0           85048\n",
      "1          79323P\n",
      "2          79323W\n",
      "3           22041\n",
      "4           21232\n",
      "            ...  \n",
      "1048570     23284\n",
      "1048571     22507\n",
      "1048572     22469\n",
      "1048573     23489\n",
      "1048574     23046\n",
      "Name: StockCode, Length: 1048575, dtype: object>\n",
      "*********************************************\n",
      "DESCRIPTION\n",
      "*********************************************\n",
      "The Number of Unique Columns are:  5697\n",
      "*********************************************\n",
      "<bound method IndexOpsMixin.value_counts of 0          15CM CHRISTMAS GLASS BALL 20 LIGHTS\n",
      "1                           PINK CHERRY LIGHTS\n",
      "2                          WHITE CHERRY LIGHTS\n",
      "3                 RECORD FRAME 7\" SINGLE SIZE \n",
      "4               STRAWBERRY CERAMIC TRINKET BOX\n",
      "                          ...                 \n",
      "1048570          DOORMAT KEEP CALM AND COME IN\n",
      "1048571           MEMO BOARD RETROSPOT  DESIGN\n",
      "1048572                  HEART OF WICKER SMALL\n",
      "1048573                  VINTAGE BELLS GARLAND\n",
      "1048574      PAPER LANTERN 9 POINT DELUXE STAR\n",
      "Name: Description, Length: 1048575, dtype: object>\n",
      "*********************************************\n",
      "INVOICEDATE\n",
      "*********************************************\n",
      "The Number of Unique Columns are:  47046\n",
      "*********************************************\n",
      "<bound method IndexOpsMixin.value_counts of 0          1.12.2009 07:45\n",
      "1          1.12.2009 07:45\n",
      "2          1.12.2009 07:45\n",
      "3          1.12.2009 07:45\n",
      "4          1.12.2009 07:45\n",
      "                ...       \n",
      "1048570    4.12.2011 13:00\n",
      "1048571    4.12.2011 13:00\n",
      "1048572    4.12.2011 13:15\n",
      "1048573    4.12.2011 13:15\n",
      "1048574    4.12.2011 13:15\n",
      "Name: InvoiceDate, Length: 1048575, dtype: object>\n",
      "*********************************************\n",
      "PRICE\n",
      "*********************************************\n",
      "The Number of Unique Columns are:  2784\n",
      "*********************************************\n",
      "<bound method IndexOpsMixin.value_counts of 0          6,95\n",
      "1          6,75\n",
      "2          6,75\n",
      "3           2,1\n",
      "4          1,25\n",
      "           ... \n",
      "1048570    8,25\n",
      "1048571    4,95\n",
      "1048572    1,65\n",
      "1048573    2,89\n",
      "1048574    6,65\n",
      "Name: Price, Length: 1048575, dtype: object>\n",
      "*********************************************\n",
      "COUNTRY\n",
      "*********************************************\n",
      "The Number of Unique Columns are:  43\n",
      "*********************************************\n",
      "<bound method IndexOpsMixin.value_counts of 0          United Kingdom\n",
      "1          United Kingdom\n",
      "2          United Kingdom\n",
      "3          United Kingdom\n",
      "4          United Kingdom\n",
      "                ...      \n",
      "1048570    United Kingdom\n",
      "1048571    United Kingdom\n",
      "1048572    United Kingdom\n",
      "1048573    United Kingdom\n",
      "1048574    United Kingdom\n",
      "Name: Country, Length: 1048575, dtype: object>\n",
      "*********************************************\n"
     ]
    }
   ],
   "source": [
    "for columns in df.columns:\n",
    "    if df[columns].dtype == \"object\":\n",
    "        print(columns.upper())\n",
    "        print(\"*\"*45)\n",
    "        print(\"The Number of Unique Columns are: \", df[columns].nunique())\n",
    "        print(\"*\"*45)\n",
    "        print(df[columns].value_counts)\n",
    "        print(\"*\"*45)\n",
    "\n"
   ]
  },
  {
   "cell_type": "code",
   "execution_count": 162,
   "id": "57ea85fa",
   "metadata": {},
   "outputs": [
    {
     "data": {
      "text/html": [
       "<div>\n",
       "<style scoped>\n",
       "    .dataframe tbody tr th:only-of-type {\n",
       "        vertical-align: middle;\n",
       "    }\n",
       "\n",
       "    .dataframe tbody tr th {\n",
       "        vertical-align: top;\n",
       "    }\n",
       "\n",
       "    .dataframe thead th {\n",
       "        text-align: right;\n",
       "    }\n",
       "</style>\n",
       "<table border=\"1\" class=\"dataframe\">\n",
       "  <thead>\n",
       "    <tr style=\"text-align: right;\">\n",
       "      <th></th>\n",
       "      <th>Quantity</th>\n",
       "      <th>Customer ID</th>\n",
       "    </tr>\n",
       "  </thead>\n",
       "  <tbody>\n",
       "    <tr>\n",
       "      <th>Quantity</th>\n",
       "      <td>1.000000</td>\n",
       "      <td>-0.007432</td>\n",
       "    </tr>\n",
       "    <tr>\n",
       "      <th>Customer ID</th>\n",
       "      <td>-0.007432</td>\n",
       "      <td>1.000000</td>\n",
       "    </tr>\n",
       "  </tbody>\n",
       "</table>\n",
       "</div>"
      ],
      "text/plain": [
       "             Quantity  Customer ID\n",
       "Quantity     1.000000    -0.007432\n",
       "Customer ID -0.007432     1.000000"
      ]
     },
     "execution_count": 162,
     "metadata": {},
     "output_type": "execute_result"
    }
   ],
   "source": [
    "df.corr() # No much output can be observed"
   ]
  },
  {
   "cell_type": "code",
   "execution_count": 163,
   "id": "5bb83324",
   "metadata": {},
   "outputs": [
    {
     "data": {
      "text/plain": [
       "<AxesSubplot:>"
      ]
     },
     "execution_count": 163,
     "metadata": {},
     "output_type": "execute_result"
    },
    {
     "data": {
      "image/png": "[encoded data removed]",
      "text/plain": [
       "<Figure size 432x288 with 2 Axes>"
      ]
     },
     "metadata": {
      "needs_background": "light"
     },
     "output_type": "display_data"
    }
   ],
   "source": [
    "import seaborn as sns\n",
    "sns.heatmap(df.corr(), annot = True)"
   ]
  },
  {
   "cell_type": "code",
   "execution_count": 164,
   "id": "c3b2ecfb",
   "metadata": {},
   "outputs": [],
   "source": [
    "df['Price'] = df[\"Price\"].str.replace(\",\",'.') # replacing the \",\" in price column to \".\""
   ]
  },
  {
   "cell_type": "code",
   "execution_count": 165,
   "id": "ab7829f1",
   "metadata": {},
   "outputs": [
    {
     "data": {
      "text/plain": [
       "0          6.95\n",
       "1          6.75\n",
       "2          6.75\n",
       "3          2.10\n",
       "4          1.25\n",
       "           ... \n",
       "1048570    8.25\n",
       "1048571    4.95\n",
       "1048572    1.65\n",
       "1048573    2.89\n",
       "1048574    6.65\n",
       "Name: Price, Length: 1048575, dtype: float64"
      ]
     },
     "execution_count": 165,
     "metadata": {},
     "output_type": "execute_result"
    }
   ],
   "source": [
    "df['Price'] = pd.to_numeric(df['Price']) # converting the price column from object to numeric\n",
    "df['Price']"
   ]
  },
  {
   "cell_type": "code",
   "execution_count": 166,
   "id": "75b8ef92",
   "metadata": {},
   "outputs": [],
   "source": [
    "df['InvoiceDate'] = pd.to_datetime(df['InvoiceDate']) # changing the InvoiceDate column from object to datetime"
   ]
  },
  {
   "cell_type": "code",
   "execution_count": 167,
   "id": "a7d845d9",
   "metadata": {},
   "outputs": [],
   "source": [
    "df['Customer ID'] = pd.to_numeric(df['Customer ID']) # changing the \"Customer ID\" column to numeric"
   ]
  },
  {
   "cell_type": "code",
   "execution_count": 168,
   "id": "871823e9",
   "metadata": {},
   "outputs": [
    {
     "data": {
      "text/html": [
       "<div>\n",
       "<style scoped>\n",
       "    .dataframe tbody tr th:only-of-type {\n",
       "        vertical-align: middle;\n",
       "    }\n",
       "\n",
       "    .dataframe tbody tr th {\n",
       "        vertical-align: top;\n",
       "    }\n",
       "\n",
       "    .dataframe thead th {\n",
       "        text-align: right;\n",
       "    }\n",
       "</style>\n",
       "<table border=\"1\" class=\"dataframe\">\n",
       "  <thead>\n",
       "    <tr style=\"text-align: right;\">\n",
       "      <th></th>\n",
       "      <th>Invoice</th>\n",
       "      <th>StockCode</th>\n",
       "      <th>Description</th>\n",
       "      <th>Quantity</th>\n",
       "      <th>InvoiceDate</th>\n",
       "      <th>Price</th>\n",
       "      <th>Customer ID</th>\n",
       "      <th>Country</th>\n",
       "    </tr>\n",
       "  </thead>\n",
       "  <tbody>\n",
       "    <tr>\n",
       "      <th>0</th>\n",
       "      <td>489434</td>\n",
       "      <td>85048</td>\n",
       "      <td>15CM CHRISTMAS GLASS BALL 20 LIGHTS</td>\n",
       "      <td>12</td>\n",
       "      <td>2009-01-12 07:45:00</td>\n",
       "      <td>6.95</td>\n",
       "      <td>13085.0</td>\n",
       "      <td>United Kingdom</td>\n",
       "    </tr>\n",
       "    <tr>\n",
       "      <th>1</th>\n",
       "      <td>489434</td>\n",
       "      <td>79323P</td>\n",
       "      <td>PINK CHERRY LIGHTS</td>\n",
       "      <td>12</td>\n",
       "      <td>2009-01-12 07:45:00</td>\n",
       "      <td>6.75</td>\n",
       "      <td>13085.0</td>\n",
       "      <td>United Kingdom</td>\n",
       "    </tr>\n",
       "    <tr>\n",
       "      <th>2</th>\n",
       "      <td>489434</td>\n",
       "      <td>79323W</td>\n",
       "      <td>WHITE CHERRY LIGHTS</td>\n",
       "      <td>12</td>\n",
       "      <td>2009-01-12 07:45:00</td>\n",
       "      <td>6.75</td>\n",
       "      <td>13085.0</td>\n",
       "      <td>United Kingdom</td>\n",
       "    </tr>\n",
       "  </tbody>\n",
       "</table>\n",
       "</div>"
      ],
      "text/plain": [
       "  Invoice StockCode                          Description  Quantity  \\\n",
       "0  489434     85048  15CM CHRISTMAS GLASS BALL 20 LIGHTS        12   \n",
       "1  489434    79323P                   PINK CHERRY LIGHTS        12   \n",
       "2  489434    79323W                  WHITE CHERRY LIGHTS        12   \n",
       "\n",
       "          InvoiceDate  Price  Customer ID         Country  \n",
       "0 2009-01-12 07:45:00   6.95      13085.0  United Kingdom  \n",
       "1 2009-01-12 07:45:00   6.75      13085.0  United Kingdom  \n",
       "2 2009-01-12 07:45:00   6.75      13085.0  United Kingdom  "
      ]
     },
     "execution_count": 168,
     "metadata": {},
     "output_type": "execute_result"
    }
   ],
   "source": [
    "df.head(3)"
   ]
  },
  {
   "cell_type": "code",
   "execution_count": 169,
   "id": "910a1af4",
   "metadata": {},
   "outputs": [
    {
     "name": "stdout",
     "output_type": "stream",
     "text": [
      "<class 'pandas.core.frame.DataFrame'>\n",
      "RangeIndex: 1048575 entries, 0 to 1048574\n",
      "Data columns (total 8 columns):\n",
      " #   Column       Non-Null Count    Dtype         \n",
      "---  ------       --------------    -----         \n",
      " 0   Invoice      1048575 non-null  object        \n",
      " 1   StockCode    1048575 non-null  object        \n",
      " 2   Description  1044203 non-null  object        \n",
      " 3   Quantity     1048575 non-null  int64         \n",
      " 4   InvoiceDate  1048575 non-null  datetime64[ns]\n",
      " 5   Price        1048575 non-null  float64       \n",
      " 6   Customer ID  811893 non-null   float64       \n",
      " 7   Country      1048575 non-null  object        \n",
      "dtypes: datetime64[ns](1), float64(2), int64(1), object(4)\n",
      "memory usage: 64.0+ MB\n"
     ]
    }
   ],
   "source": [
    "df.info() # confirming if all the changes have occurred or not"
   ]
  },
  {
   "cell_type": "code",
   "execution_count": 170,
   "id": "0bf3d037",
   "metadata": {},
   "outputs": [],
   "source": [
    "df['Rev'] = df['Quantity'] * df['Price']\n",
    "df['Rev'] = round(df['Rev'],2)\n",
    "\n",
    "# making a new column showing Revenue (alias Rev) by multiplying the Quantity and Price"
   ]
  },
  {
   "cell_type": "code",
   "execution_count": 171,
   "id": "6798bfc7",
   "metadata": {},
   "outputs": [
    {
     "data": {
      "text/html": [
       "<div>\n",
       "<style scoped>\n",
       "    .dataframe tbody tr th:only-of-type {\n",
       "        vertical-align: middle;\n",
       "    }\n",
       "\n",
       "    .dataframe tbody tr th {\n",
       "        vertical-align: top;\n",
       "    }\n",
       "\n",
       "    .dataframe thead th {\n",
       "        text-align: right;\n",
       "    }\n",
       "</style>\n",
       "<table border=\"1\" class=\"dataframe\">\n",
       "  <thead>\n",
       "    <tr style=\"text-align: right;\">\n",
       "      <th></th>\n",
       "      <th>Invoice</th>\n",
       "      <th>StockCode</th>\n",
       "      <th>Description</th>\n",
       "      <th>Quantity</th>\n",
       "      <th>InvoiceDate</th>\n",
       "      <th>Price</th>\n",
       "      <th>Customer ID</th>\n",
       "      <th>Country</th>\n",
       "      <th>Rev</th>\n",
       "    </tr>\n",
       "  </thead>\n",
       "  <tbody>\n",
       "    <tr>\n",
       "      <th>0</th>\n",
       "      <td>489434</td>\n",
       "      <td>85048</td>\n",
       "      <td>15CM CHRISTMAS GLASS BALL 20 LIGHTS</td>\n",
       "      <td>12</td>\n",
       "      <td>2009-01-12 07:45:00</td>\n",
       "      <td>6.95</td>\n",
       "      <td>13085.0</td>\n",
       "      <td>United Kingdom</td>\n",
       "      <td>83.4</td>\n",
       "    </tr>\n",
       "    <tr>\n",
       "      <th>1</th>\n",
       "      <td>489434</td>\n",
       "      <td>79323P</td>\n",
       "      <td>PINK CHERRY LIGHTS</td>\n",
       "      <td>12</td>\n",
       "      <td>2009-01-12 07:45:00</td>\n",
       "      <td>6.75</td>\n",
       "      <td>13085.0</td>\n",
       "      <td>United Kingdom</td>\n",
       "      <td>81.0</td>\n",
       "    </tr>\n",
       "    <tr>\n",
       "      <th>2</th>\n",
       "      <td>489434</td>\n",
       "      <td>79323W</td>\n",
       "      <td>WHITE CHERRY LIGHTS</td>\n",
       "      <td>12</td>\n",
       "      <td>2009-01-12 07:45:00</td>\n",
       "      <td>6.75</td>\n",
       "      <td>13085.0</td>\n",
       "      <td>United Kingdom</td>\n",
       "      <td>81.0</td>\n",
       "    </tr>\n",
       "  </tbody>\n",
       "</table>\n",
       "</div>"
      ],
      "text/plain": [
       "  Invoice StockCode                          Description  Quantity  \\\n",
       "0  489434     85048  15CM CHRISTMAS GLASS BALL 20 LIGHTS        12   \n",
       "1  489434    79323P                   PINK CHERRY LIGHTS        12   \n",
       "2  489434    79323W                  WHITE CHERRY LIGHTS        12   \n",
       "\n",
       "          InvoiceDate  Price  Customer ID         Country   Rev  \n",
       "0 2009-01-12 07:45:00   6.95      13085.0  United Kingdom  83.4  \n",
       "1 2009-01-12 07:45:00   6.75      13085.0  United Kingdom  81.0  \n",
       "2 2009-01-12 07:45:00   6.75      13085.0  United Kingdom  81.0  "
      ]
     },
     "execution_count": 171,
     "metadata": {},
     "output_type": "execute_result"
    }
   ],
   "source": [
    "df.head(3)"
   ]
  },
  {
   "cell_type": "code",
   "execution_count": 172,
   "id": "15d84985",
   "metadata": {},
   "outputs": [
    {
     "name": "stdout",
     "output_type": "stream",
     "text": [
      "<class 'pandas.core.frame.DataFrame'>\n",
      "RangeIndex: 1048575 entries, 0 to 1048574\n",
      "Data columns (total 9 columns):\n",
      " #   Column       Non-Null Count    Dtype         \n",
      "---  ------       --------------    -----         \n",
      " 0   Invoice      1048575 non-null  object        \n",
      " 1   StockCode    1048575 non-null  object        \n",
      " 2   Description  1044203 non-null  object        \n",
      " 3   Quantity     1048575 non-null  int64         \n",
      " 4   InvoiceDate  1048575 non-null  datetime64[ns]\n",
      " 5   Price        1048575 non-null  float64       \n",
      " 6   Customer ID  811893 non-null   float64       \n",
      " 7   Country      1048575 non-null  object        \n",
      " 8   Rev          1048575 non-null  float64       \n",
      "dtypes: datetime64[ns](1), float64(3), int64(1), object(4)\n",
      "memory usage: 72.0+ MB\n"
     ]
    }
   ],
   "source": [
    "df.info()"
   ]
  },
  {
   "cell_type": "code",
   "execution_count": 173,
   "id": "314a4597",
   "metadata": {},
   "outputs": [
    {
     "data": {
      "text/plain": [
       "Invoice             0\n",
       "StockCode           0\n",
       "Description      4372\n",
       "Quantity            0\n",
       "InvoiceDate         0\n",
       "Price               0\n",
       "Customer ID    236682\n",
       "Country             0\n",
       "Rev                 0\n",
       "dtype: int64"
      ]
     },
     "execution_count": 173,
     "metadata": {},
     "output_type": "execute_result"
    }
   ],
   "source": [
    "df.isnull().sum() # avoiding it, as the changes(removal of null values) were not told to be done\n",
    "\n",
    "# df = df.dropna(subset = 'Customer ID')\n",
    "# just in case if it was to be done"
   ]
  },
  {
   "cell_type": "code",
   "execution_count": 174,
   "id": "bc9eb7bb",
   "metadata": {},
   "outputs": [
    {
     "data": {
      "text/plain": [
       "34150"
      ]
     },
     "execution_count": 174,
     "metadata": {},
     "output_type": "execute_result"
    }
   ],
   "source": [
    "df.duplicated().sum() # 34150 Duplicates are there but not removing as it was not asked to be done\n",
    "\n",
    "# df = df.drop_duplicates(subset = ['Invoice'])\n",
    "# just in case if it was to be done"
   ]
  },
  {
   "cell_type": "code",
   "execution_count": null,
   "id": "eefb5033",
   "metadata": {},
   "outputs": [],
   "source": []
  },
  {
   "cell_type": "markdown",
   "id": "bd6280a3",
   "metadata": {},
   "source": [
    "The first thing you need to do is to create an RFM view for each customer. What is RFM view?\n",
    "\n",
    "You will need to compute the following for each customer:\n",
    "\n",
    "1. The number of times a customer has made transactions. If in a single day a customer has made 3 transactions, count them as 3 separate transactions. This is the frequency in RFM\n",
    "\n",
    "2. The total and average revenue per customer. To arrive at revenue, you will need to multiply the Quantity and Price columns. You will also need to clean the Price column for any data quality issues. This will become the monetary term in RFM\n",
    "\n",
    "3. Lastly you will need to find the recency of the last purchase. This can be computed by finding the number of days that have elapsed from the last purchase each customer has made. You can use a base date of 01/01/2012 to compute recency. Find out the number of days elapsed from 01/01/2012 for each customer's most recent purchase.\n",
    "\n",
    "At the end of this exercise, you should have a table that looks as given below"
   ]
  },
  {
   "cell_type": "markdown",
   "id": "ec3c4492",
   "metadata": {},
   "source": [
    "# Task 1"
   ]
  },
  {
   "cell_type": "markdown",
   "id": "a0e43965",
   "metadata": {},
   "source": [
    "**1. The number of times a customer has made transactions. If in a single day a customer has made 3 transactions, count them as 3 separate transactions. This is the frequency in RFM.**\n"
   ]
  },
  {
   "cell_type": "markdown",
   "id": "b31bb5b5",
   "metadata": {},
   "source": [
    "### 1.1 finding the frequency of Revenue Generated based on Customer ID\n"
   ]
  },
  {
   "cell_type": "code",
   "execution_count": 175,
   "id": "8bf33cf2",
   "metadata": {},
   "outputs": [
    {
     "data": {
      "text/plain": [
       "Customer ID\n",
       "12346.0     48\n",
       "12347.0    242\n",
       "Name: Rev, dtype: int64"
      ]
     },
     "execution_count": 175,
     "metadata": {},
     "output_type": "execute_result"
    }
   ],
   "source": [
    "b = df.groupby('Customer ID')['Rev'].count()\n",
    "b.head(2)"
   ]
  },
  {
   "cell_type": "code",
   "execution_count": 176,
   "id": "585a37de",
   "metadata": {
    "scrolled": true
   },
   "outputs": [
    {
     "data": {
      "text/html": [
       "<div>\n",
       "<style scoped>\n",
       "    .dataframe tbody tr th:only-of-type {\n",
       "        vertical-align: middle;\n",
       "    }\n",
       "\n",
       "    .dataframe tbody tr th {\n",
       "        vertical-align: top;\n",
       "    }\n",
       "\n",
       "    .dataframe thead th {\n",
       "        text-align: right;\n",
       "    }\n",
       "</style>\n",
       "<table border=\"1\" class=\"dataframe\">\n",
       "  <thead>\n",
       "    <tr style=\"text-align: right;\">\n",
       "      <th></th>\n",
       "      <th>Rev</th>\n",
       "    </tr>\n",
       "    <tr>\n",
       "      <th>Customer ID</th>\n",
       "      <th></th>\n",
       "    </tr>\n",
       "  </thead>\n",
       "  <tbody>\n",
       "    <tr>\n",
       "      <th>12346.0</th>\n",
       "      <td>48</td>\n",
       "    </tr>\n",
       "    <tr>\n",
       "      <th>12347.0</th>\n",
       "      <td>242</td>\n",
       "    </tr>\n",
       "  </tbody>\n",
       "</table>\n",
       "</div>"
      ],
      "text/plain": [
       "             Rev\n",
       "Customer ID     \n",
       "12346.0       48\n",
       "12347.0      242"
      ]
     },
     "execution_count": 176,
     "metadata": {},
     "output_type": "execute_result"
    }
   ],
   "source": [
    "# Converting the series into DataFrame\n",
    "df_Freq = pd.DataFrame(b)\n",
    "df_Freq.head(2)"
   ]
  },
  {
   "cell_type": "code",
   "execution_count": 177,
   "id": "9c856773",
   "metadata": {},
   "outputs": [
    {
     "data": {
      "text/html": [
       "<div>\n",
       "<style scoped>\n",
       "    .dataframe tbody tr th:only-of-type {\n",
       "        vertical-align: middle;\n",
       "    }\n",
       "\n",
       "    .dataframe tbody tr th {\n",
       "        vertical-align: top;\n",
       "    }\n",
       "\n",
       "    .dataframe thead th {\n",
       "        text-align: right;\n",
       "    }\n",
       "</style>\n",
       "<table border=\"1\" class=\"dataframe\">\n",
       "  <thead>\n",
       "    <tr style=\"text-align: right;\">\n",
       "      <th></th>\n",
       "      <th>Customer ID</th>\n",
       "      <th>Freq</th>\n",
       "    </tr>\n",
       "  </thead>\n",
       "  <tbody>\n",
       "    <tr>\n",
       "      <th>0</th>\n",
       "      <td>12346.0</td>\n",
       "      <td>48</td>\n",
       "    </tr>\n",
       "    <tr>\n",
       "      <th>1</th>\n",
       "      <td>12347.0</td>\n",
       "      <td>242</td>\n",
       "    </tr>\n",
       "  </tbody>\n",
       "</table>\n",
       "</div>"
      ],
      "text/plain": [
       "   Customer ID  Freq\n",
       "0      12346.0    48\n",
       "1      12347.0   242"
      ]
     },
     "execution_count": 177,
     "metadata": {},
     "output_type": "execute_result"
    }
   ],
   "source": [
    "# Renaming the column name into Frequency and reseting index for the DataFrame\n",
    "df_Freq = df_Freq.rename(columns = {'Rev':'Freq'}).reset_index()\n",
    "df_Freq.head(2)"
   ]
  },
  {
   "cell_type": "markdown",
   "id": "c8abfc32",
   "metadata": {},
   "source": [
    "### 1.2 Adding the Duration Column to find out the difference with the date 01-01-2012"
   ]
  },
  {
   "cell_type": "code",
   "execution_count": 178,
   "id": "474f19dd",
   "metadata": {},
   "outputs": [
    {
     "data": {
      "text/plain": [
       "Customer ID\n",
       "12346.0   347 days 13:43:00\n",
       "12347.0    61 days 11:35:00\n",
       "Name: InvoiceDate, dtype: timedelta64[ns]"
      ]
     },
     "execution_count": 178,
     "metadata": {},
     "output_type": "execute_result"
    }
   ],
   "source": [
    "# Segregating the customer ID and finding the maximum InvoiceDate and replacing it with the difference  using lambda function\n",
    "x = df.groupby('Customer ID')['InvoiceDate'].max().apply(lambda x: (pd.Timestamp('2012-01-01') - x))\n",
    "x.head(2)"
   ]
  },
  {
   "cell_type": "code",
   "execution_count": 179,
   "id": "223475d0",
   "metadata": {},
   "outputs": [
    {
     "data": {
      "text/html": [
       "<div>\n",
       "<style scoped>\n",
       "    .dataframe tbody tr th:only-of-type {\n",
       "        vertical-align: middle;\n",
       "    }\n",
       "\n",
       "    .dataframe tbody tr th {\n",
       "        vertical-align: top;\n",
       "    }\n",
       "\n",
       "    .dataframe thead th {\n",
       "        text-align: right;\n",
       "    }\n",
       "</style>\n",
       "<table border=\"1\" class=\"dataframe\">\n",
       "  <thead>\n",
       "    <tr style=\"text-align: right;\">\n",
       "      <th></th>\n",
       "      <th>InvoiceDate</th>\n",
       "    </tr>\n",
       "    <tr>\n",
       "      <th>Customer ID</th>\n",
       "      <th></th>\n",
       "    </tr>\n",
       "  </thead>\n",
       "  <tbody>\n",
       "    <tr>\n",
       "      <th>12346.0</th>\n",
       "      <td>347 days 13:43:00</td>\n",
       "    </tr>\n",
       "    <tr>\n",
       "      <th>12347.0</th>\n",
       "      <td>61 days 11:35:00</td>\n",
       "    </tr>\n",
       "  </tbody>\n",
       "</table>\n",
       "</div>"
      ],
      "text/plain": [
       "                  InvoiceDate\n",
       "Customer ID                  \n",
       "12346.0     347 days 13:43:00\n",
       "12347.0      61 days 11:35:00"
      ]
     },
     "execution_count": 179,
     "metadata": {},
     "output_type": "execute_result"
    }
   ],
   "source": [
    "# Converting it into a DataFrame\n",
    "df_Duration = pd.DataFrame(x)\n",
    "df_Duration.head(2)"
   ]
  },
  {
   "cell_type": "code",
   "execution_count": 180,
   "id": "03f36351",
   "metadata": {},
   "outputs": [
    {
     "data": {
      "text/html": [
       "<div>\n",
       "<style scoped>\n",
       "    .dataframe tbody tr th:only-of-type {\n",
       "        vertical-align: middle;\n",
       "    }\n",
       "\n",
       "    .dataframe tbody tr th {\n",
       "        vertical-align: top;\n",
       "    }\n",
       "\n",
       "    .dataframe thead th {\n",
       "        text-align: right;\n",
       "    }\n",
       "</style>\n",
       "<table border=\"1\" class=\"dataframe\">\n",
       "  <thead>\n",
       "    <tr style=\"text-align: right;\">\n",
       "      <th></th>\n",
       "      <th>Customer ID</th>\n",
       "      <th>Duration</th>\n",
       "    </tr>\n",
       "  </thead>\n",
       "  <tbody>\n",
       "    <tr>\n",
       "      <th>0</th>\n",
       "      <td>12346.0</td>\n",
       "      <td>347 days 13:43:00</td>\n",
       "    </tr>\n",
       "    <tr>\n",
       "      <th>1</th>\n",
       "      <td>12347.0</td>\n",
       "      <td>61 days 11:35:00</td>\n",
       "    </tr>\n",
       "    <tr>\n",
       "      <th>2</th>\n",
       "      <td>12348.0</td>\n",
       "      <td>97 days 10:47:00</td>\n",
       "    </tr>\n",
       "  </tbody>\n",
       "</table>\n",
       "</div>"
      ],
      "text/plain": [
       "   Customer ID          Duration\n",
       "0      12346.0 347 days 13:43:00\n",
       "1      12347.0  61 days 11:35:00\n",
       "2      12348.0  97 days 10:47:00"
      ]
     },
     "execution_count": 180,
     "metadata": {},
     "output_type": "execute_result"
    }
   ],
   "source": [
    "# Renaming the column name and reseting the index\n",
    "df_Duration = df_Duration.rename(columns = {'InvoiceDate':'Duration'}).reset_index()\n",
    "df_Duration.head(3)"
   ]
  },
  {
   "cell_type": "markdown",
   "id": "69db618f",
   "metadata": {},
   "source": [
    "### 1.3 Finding the Average Revenue based on the Customer ID to understand how much each customer has generated revenue on an average\n"
   ]
  },
  {
   "cell_type": "code",
   "execution_count": 181,
   "id": "6e6ba8c8",
   "metadata": {},
   "outputs": [
    {
     "data": {
      "text/plain": [
       "Customer ID\n",
       "12346.0    -1.347500\n",
       "12347.0    22.349174\n",
       "Name: Rev, dtype: float64"
      ]
     },
     "execution_count": 181,
     "metadata": {},
     "output_type": "execute_result"
    }
   ],
   "source": [
    "c = df.groupby('Customer ID')['Rev'].mean()\n",
    "c.head(2)"
   ]
  },
  {
   "cell_type": "code",
   "execution_count": 182,
   "id": "d8aea3ae",
   "metadata": {},
   "outputs": [
    {
     "data": {
      "text/html": [
       "<div>\n",
       "<style scoped>\n",
       "    .dataframe tbody tr th:only-of-type {\n",
       "        vertical-align: middle;\n",
       "    }\n",
       "\n",
       "    .dataframe tbody tr th {\n",
       "        vertical-align: top;\n",
       "    }\n",
       "\n",
       "    .dataframe thead th {\n",
       "        text-align: right;\n",
       "    }\n",
       "</style>\n",
       "<table border=\"1\" class=\"dataframe\">\n",
       "  <thead>\n",
       "    <tr style=\"text-align: right;\">\n",
       "      <th></th>\n",
       "      <th>Rev</th>\n",
       "    </tr>\n",
       "    <tr>\n",
       "      <th>Customer ID</th>\n",
       "      <th></th>\n",
       "    </tr>\n",
       "  </thead>\n",
       "  <tbody>\n",
       "    <tr>\n",
       "      <th>12346.0</th>\n",
       "      <td>-1.347500</td>\n",
       "    </tr>\n",
       "    <tr>\n",
       "      <th>12347.0</th>\n",
       "      <td>22.349174</td>\n",
       "    </tr>\n",
       "  </tbody>\n",
       "</table>\n",
       "</div>"
      ],
      "text/plain": [
       "                   Rev\n",
       "Customer ID           \n",
       "12346.0      -1.347500\n",
       "12347.0      22.349174"
      ]
     },
     "execution_count": 182,
     "metadata": {},
     "output_type": "execute_result"
    }
   ],
   "source": [
    "# Converting this Series into a Data Frame\n",
    "df_Avg_Rev = pd.DataFrame(c)\n",
    "df_Avg_Rev.head(2)"
   ]
  },
  {
   "cell_type": "code",
   "execution_count": 183,
   "id": "43ad1782",
   "metadata": {},
   "outputs": [
    {
     "data": {
      "text/html": [
       "<div>\n",
       "<style scoped>\n",
       "    .dataframe tbody tr th:only-of-type {\n",
       "        vertical-align: middle;\n",
       "    }\n",
       "\n",
       "    .dataframe tbody tr th {\n",
       "        vertical-align: top;\n",
       "    }\n",
       "\n",
       "    .dataframe thead th {\n",
       "        text-align: right;\n",
       "    }\n",
       "</style>\n",
       "<table border=\"1\" class=\"dataframe\">\n",
       "  <thead>\n",
       "    <tr style=\"text-align: right;\">\n",
       "      <th></th>\n",
       "      <th>Customer ID</th>\n",
       "      <th>Avg_Rev</th>\n",
       "    </tr>\n",
       "  </thead>\n",
       "  <tbody>\n",
       "    <tr>\n",
       "      <th>0</th>\n",
       "      <td>12346.0</td>\n",
       "      <td>-1.347500</td>\n",
       "    </tr>\n",
       "    <tr>\n",
       "      <th>1</th>\n",
       "      <td>12347.0</td>\n",
       "      <td>22.349174</td>\n",
       "    </tr>\n",
       "  </tbody>\n",
       "</table>\n",
       "</div>"
      ],
      "text/plain": [
       "   Customer ID    Avg_Rev\n",
       "0      12346.0  -1.347500\n",
       "1      12347.0  22.349174"
      ]
     },
     "execution_count": 183,
     "metadata": {},
     "output_type": "execute_result"
    }
   ],
   "source": [
    "# Renaming the Column Name to Avg_Rev\n",
    "df_Avg_Rev = df_Avg_Rev.rename(columns={'Rev':'Avg_Rev'}).reset_index()\n",
    "df_Avg_Rev.head(2)"
   ]
  },
  {
   "cell_type": "markdown",
   "id": "9f0be840",
   "metadata": {},
   "source": [
    "### 1.4 finding the total revenue generated by the customer\n"
   ]
  },
  {
   "cell_type": "code",
   "execution_count": 184,
   "id": "4947e522",
   "metadata": {},
   "outputs": [
    {
     "data": {
      "text/plain": [
       "Customer ID\n",
       "12346.0     -64.68\n",
       "12347.0    5408.50\n",
       "Name: Rev, dtype: float64"
      ]
     },
     "execution_count": 184,
     "metadata": {},
     "output_type": "execute_result"
    }
   ],
   "source": [
    "a = df.groupby('Customer ID')['Rev'].sum()\n",
    "a.head(2)"
   ]
  },
  {
   "cell_type": "code",
   "execution_count": 185,
   "id": "a7375f76",
   "metadata": {},
   "outputs": [
    {
     "data": {
      "text/html": [
       "<div>\n",
       "<style scoped>\n",
       "    .dataframe tbody tr th:only-of-type {\n",
       "        vertical-align: middle;\n",
       "    }\n",
       "\n",
       "    .dataframe tbody tr th {\n",
       "        vertical-align: top;\n",
       "    }\n",
       "\n",
       "    .dataframe thead th {\n",
       "        text-align: right;\n",
       "    }\n",
       "</style>\n",
       "<table border=\"1\" class=\"dataframe\">\n",
       "  <thead>\n",
       "    <tr style=\"text-align: right;\">\n",
       "      <th></th>\n",
       "      <th>Rev</th>\n",
       "    </tr>\n",
       "    <tr>\n",
       "      <th>Customer ID</th>\n",
       "      <th></th>\n",
       "    </tr>\n",
       "  </thead>\n",
       "  <tbody>\n",
       "    <tr>\n",
       "      <th>12346.0</th>\n",
       "      <td>-64.68</td>\n",
       "    </tr>\n",
       "    <tr>\n",
       "      <th>12347.0</th>\n",
       "      <td>5408.50</td>\n",
       "    </tr>\n",
       "  </tbody>\n",
       "</table>\n",
       "</div>"
      ],
      "text/plain": [
       "                 Rev\n",
       "Customer ID         \n",
       "12346.0       -64.68\n",
       "12347.0      5408.50"
      ]
     },
     "execution_count": 185,
     "metadata": {},
     "output_type": "execute_result"
    }
   ],
   "source": [
    "# Converting it into a DataFrame\n",
    "df_Total_Rev = pd.DataFrame(a)\n",
    "df_Total_Rev.head(2)"
   ]
  },
  {
   "cell_type": "code",
   "execution_count": 186,
   "id": "f73d655c",
   "metadata": {},
   "outputs": [
    {
     "data": {
      "text/html": [
       "<div>\n",
       "<style scoped>\n",
       "    .dataframe tbody tr th:only-of-type {\n",
       "        vertical-align: middle;\n",
       "    }\n",
       "\n",
       "    .dataframe tbody tr th {\n",
       "        vertical-align: top;\n",
       "    }\n",
       "\n",
       "    .dataframe thead th {\n",
       "        text-align: right;\n",
       "    }\n",
       "</style>\n",
       "<table border=\"1\" class=\"dataframe\">\n",
       "  <thead>\n",
       "    <tr style=\"text-align: right;\">\n",
       "      <th></th>\n",
       "      <th>Customer ID</th>\n",
       "      <th>Total_Rev</th>\n",
       "    </tr>\n",
       "  </thead>\n",
       "  <tbody>\n",
       "    <tr>\n",
       "      <th>0</th>\n",
       "      <td>12346.0</td>\n",
       "      <td>-64.68</td>\n",
       "    </tr>\n",
       "    <tr>\n",
       "      <th>1</th>\n",
       "      <td>12347.0</td>\n",
       "      <td>5408.50</td>\n",
       "    </tr>\n",
       "    <tr>\n",
       "      <th>2</th>\n",
       "      <td>12348.0</td>\n",
       "      <td>2019.40</td>\n",
       "    </tr>\n",
       "  </tbody>\n",
       "</table>\n",
       "</div>"
      ],
      "text/plain": [
       "   Customer ID  Total_Rev\n",
       "0      12346.0     -64.68\n",
       "1      12347.0    5408.50\n",
       "2      12348.0    2019.40"
      ]
     },
     "execution_count": 186,
     "metadata": {},
     "output_type": "execute_result"
    }
   ],
   "source": [
    "# Renaming the column with Total_Revenue \n",
    "df_Total_Rev = df_Total_Rev.rename(columns = {'Rev':'Total_Rev'}).reset_index()\n",
    "df_Total_Rev.head(3)"
   ]
  },
  {
   "cell_type": "markdown",
   "id": "93ddb19c",
   "metadata": {},
   "source": [
    "### 1.5 Merging all the dataframes (Duration, Frequency, Total_revenue, Average_Revenu)"
   ]
  },
  {
   "cell_type": "code",
   "execution_count": 187,
   "id": "9da206d4",
   "metadata": {},
   "outputs": [
    {
     "data": {
      "text/html": [
       "<div>\n",
       "<style scoped>\n",
       "    .dataframe tbody tr th:only-of-type {\n",
       "        vertical-align: middle;\n",
       "    }\n",
       "\n",
       "    .dataframe tbody tr th {\n",
       "        vertical-align: top;\n",
       "    }\n",
       "\n",
       "    .dataframe thead th {\n",
       "        text-align: right;\n",
       "    }\n",
       "</style>\n",
       "<table border=\"1\" class=\"dataframe\">\n",
       "  <thead>\n",
       "    <tr style=\"text-align: right;\">\n",
       "      <th></th>\n",
       "      <th>Customer ID</th>\n",
       "      <th>Duration</th>\n",
       "      <th>Freq</th>\n",
       "      <th>Total_Rev</th>\n",
       "      <th>Avg_Rev</th>\n",
       "    </tr>\n",
       "  </thead>\n",
       "  <tbody>\n",
       "    <tr>\n",
       "      <th>0</th>\n",
       "      <td>12346.0</td>\n",
       "      <td>347 days 13:43:00</td>\n",
       "      <td>48</td>\n",
       "      <td>-64.68</td>\n",
       "      <td>-1.347500</td>\n",
       "    </tr>\n",
       "    <tr>\n",
       "      <th>1</th>\n",
       "      <td>12347.0</td>\n",
       "      <td>61 days 11:35:00</td>\n",
       "      <td>242</td>\n",
       "      <td>5408.50</td>\n",
       "      <td>22.349174</td>\n",
       "    </tr>\n",
       "    <tr>\n",
       "      <th>2</th>\n",
       "      <td>12348.0</td>\n",
       "      <td>97 days 10:47:00</td>\n",
       "      <td>51</td>\n",
       "      <td>2019.40</td>\n",
       "      <td>39.596078</td>\n",
       "    </tr>\n",
       "  </tbody>\n",
       "</table>\n",
       "</div>"
      ],
      "text/plain": [
       "   Customer ID          Duration  Freq  Total_Rev    Avg_Rev\n",
       "0      12346.0 347 days 13:43:00    48     -64.68  -1.347500\n",
       "1      12347.0  61 days 11:35:00   242    5408.50  22.349174\n",
       "2      12348.0  97 days 10:47:00    51    2019.40  39.596078"
      ]
     },
     "execution_count": 187,
     "metadata": {},
     "output_type": "execute_result"
    }
   ],
   "source": [
    "# merging all the columns \n",
    "df_RFM_Customer = pd.merge(pd.merge(pd.merge(df_Duration, df_Freq, on = 'Customer ID'),df_Total_Rev, on = 'Customer ID'), df_Avg_Rev, on = 'Customer ID') \n",
    "df_RFM_Customer.head(3)"
   ]
  },
  {
   "cell_type": "code",
   "execution_count": 188,
   "id": "a4b5f254",
   "metadata": {},
   "outputs": [
    {
     "data": {
      "text/html": [
       "<div>\n",
       "<style scoped>\n",
       "    .dataframe tbody tr th:only-of-type {\n",
       "        vertical-align: middle;\n",
       "    }\n",
       "\n",
       "    .dataframe tbody tr th {\n",
       "        vertical-align: top;\n",
       "    }\n",
       "\n",
       "    .dataframe thead th {\n",
       "        text-align: right;\n",
       "    }\n",
       "</style>\n",
       "<table border=\"1\" class=\"dataframe\">\n",
       "  <thead>\n",
       "    <tr style=\"text-align: right;\">\n",
       "      <th></th>\n",
       "      <th>Customer ID</th>\n",
       "      <th>Duration</th>\n",
       "      <th>Freq</th>\n",
       "      <th>Total_Rev</th>\n",
       "      <th>Avg_Rev</th>\n",
       "    </tr>\n",
       "  </thead>\n",
       "  <tbody>\n",
       "    <tr>\n",
       "      <th>0</th>\n",
       "      <td>18287.0</td>\n",
       "      <td>21 days 13:37:00</td>\n",
       "      <td>156</td>\n",
       "      <td>4177.89</td>\n",
       "      <td>26.781346</td>\n",
       "    </tr>\n",
       "    <tr>\n",
       "      <th>1</th>\n",
       "      <td>18286.0</td>\n",
       "      <td>498 days 12:03:00</td>\n",
       "      <td>70</td>\n",
       "      <td>1188.43</td>\n",
       "      <td>16.977571</td>\n",
       "    </tr>\n",
       "    <tr>\n",
       "      <th>2</th>\n",
       "      <td>18285.0</td>\n",
       "      <td>682 days 13:36:00</td>\n",
       "      <td>12</td>\n",
       "      <td>427.00</td>\n",
       "      <td>35.583333</td>\n",
       "    </tr>\n",
       "  </tbody>\n",
       "</table>\n",
       "</div>"
      ],
      "text/plain": [
       "   Customer ID          Duration  Freq  Total_Rev    Avg_Rev\n",
       "0      18287.0  21 days 13:37:00   156    4177.89  26.781346\n",
       "1      18286.0 498 days 12:03:00    70    1188.43  16.977571\n",
       "2      18285.0 682 days 13:36:00    12     427.00  35.583333"
      ]
     },
     "execution_count": 188,
     "metadata": {},
     "output_type": "execute_result"
    }
   ],
   "source": [
    "# selecting all rows in the reverse order\n",
    "df_RFM_Customer = df_RFM_Customer.iloc[::-1,:].reset_index().drop(['index'],axis = 1)\n",
    "df_RFM_Customer.head(3)"
   ]
  },
  {
   "cell_type": "markdown",
   "id": "cae6c976",
   "metadata": {},
   "source": [
    "# Task 2"
   ]
  },
  {
   "cell_type": "markdown",
   "id": "9b79d8c1",
   "metadata": {},
   "source": [
    "**Once you have the RFM table, you will need to analyze this table further.**\n",
    "\n",
    "**One of the things you can analyze is to find the vintage of customers. You can find out for which ranges of recency, is the company realizing around 75% of the total revenue.**"
   ]
  },
  {
   "cell_type": "code",
   "execution_count": 189,
   "id": "ae476b5f",
   "metadata": {},
   "outputs": [
    {
     "data": {
      "text/plain": [
       "(5924, 5)"
      ]
     },
     "execution_count": 189,
     "metadata": {},
     "output_type": "execute_result"
    }
   ],
   "source": [
    "df_RFM_Customer.shape"
   ]
  },
  {
   "cell_type": "code",
   "execution_count": 190,
   "id": "4aad7f34",
   "metadata": {},
   "outputs": [
    {
     "data": {
      "text/html": [
       "<div>\n",
       "<style scoped>\n",
       "    .dataframe tbody tr th:only-of-type {\n",
       "        vertical-align: middle;\n",
       "    }\n",
       "\n",
       "    .dataframe tbody tr th {\n",
       "        vertical-align: top;\n",
       "    }\n",
       "\n",
       "    .dataframe thead th {\n",
       "        text-align: right;\n",
       "    }\n",
       "</style>\n",
       "<table border=\"1\" class=\"dataframe\">\n",
       "  <thead>\n",
       "    <tr style=\"text-align: right;\">\n",
       "      <th></th>\n",
       "      <th>Customer ID</th>\n",
       "      <th>Duration</th>\n",
       "      <th>Freq</th>\n",
       "      <th>Total_Rev</th>\n",
       "      <th>Avg_Rev</th>\n",
       "    </tr>\n",
       "  </thead>\n",
       "  <tbody>\n",
       "    <tr>\n",
       "      <th>0</th>\n",
       "      <td>18287.0</td>\n",
       "      <td>21 days 13:37:00</td>\n",
       "      <td>156</td>\n",
       "      <td>4177.89</td>\n",
       "      <td>26.781346</td>\n",
       "    </tr>\n",
       "    <tr>\n",
       "      <th>1</th>\n",
       "      <td>18286.0</td>\n",
       "      <td>498 days 12:03:00</td>\n",
       "      <td>70</td>\n",
       "      <td>1188.43</td>\n",
       "      <td>16.977571</td>\n",
       "    </tr>\n",
       "  </tbody>\n",
       "</table>\n",
       "</div>"
      ],
      "text/plain": [
       "   Customer ID          Duration  Freq  Total_Rev    Avg_Rev\n",
       "0      18287.0  21 days 13:37:00   156    4177.89  26.781346\n",
       "1      18286.0 498 days 12:03:00    70    1188.43  16.977571"
      ]
     },
     "execution_count": 190,
     "metadata": {},
     "output_type": "execute_result"
    }
   ],
   "source": [
    "df_RFM_Customer.head(2)"
   ]
  },
  {
   "cell_type": "code",
   "execution_count": 191,
   "id": "bfa794bf",
   "metadata": {},
   "outputs": [
    {
     "data": {
      "text/html": [
       "<div>\n",
       "<style scoped>\n",
       "    .dataframe tbody tr th:only-of-type {\n",
       "        vertical-align: middle;\n",
       "    }\n",
       "\n",
       "    .dataframe tbody tr th {\n",
       "        vertical-align: top;\n",
       "    }\n",
       "\n",
       "    .dataframe thead th {\n",
       "        text-align: right;\n",
       "    }\n",
       "</style>\n",
       "<table border=\"1\" class=\"dataframe\">\n",
       "  <thead>\n",
       "    <tr style=\"text-align: right;\">\n",
       "      <th></th>\n",
       "      <th>Customer ID</th>\n",
       "      <th>Duration</th>\n",
       "      <th>Freq</th>\n",
       "      <th>Total_Rev</th>\n",
       "      <th>Avg_Rev</th>\n",
       "      <th>Recency_Deciles</th>\n",
       "    </tr>\n",
       "  </thead>\n",
       "  <tbody>\n",
       "    <tr>\n",
       "      <th>0</th>\n",
       "      <td>18287.0</td>\n",
       "      <td>21 days 13:37:00</td>\n",
       "      <td>156</td>\n",
       "      <td>4177.89</td>\n",
       "      <td>26.781346</td>\n",
       "      <td>(21 days 06:40:59.999999999, 32 days 12:04:36]</td>\n",
       "    </tr>\n",
       "    <tr>\n",
       "      <th>1</th>\n",
       "      <td>18286.0</td>\n",
       "      <td>498 days 12:03:00</td>\n",
       "      <td>70</td>\n",
       "      <td>1188.43</td>\n",
       "      <td>16.977571</td>\n",
       "      <td>(436 days 12:19:24, 557 days 12:04:00]</td>\n",
       "    </tr>\n",
       "  </tbody>\n",
       "</table>\n",
       "</div>"
      ],
      "text/plain": [
       "   Customer ID          Duration  Freq  Total_Rev    Avg_Rev  \\\n",
       "0      18287.0  21 days 13:37:00   156    4177.89  26.781346   \n",
       "1      18286.0 498 days 12:03:00    70    1188.43  16.977571   \n",
       "\n",
       "                                  Recency_Deciles  \n",
       "0  (21 days 06:40:59.999999999, 32 days 12:04:36]  \n",
       "1          (436 days 12:19:24, 557 days 12:04:00]  "
      ]
     },
     "execution_count": 191,
     "metadata": {},
     "output_type": "execute_result"
    }
   ],
   "source": [
    "# using qcut to divide the Duration into 10 quantiles\n",
    "df_RFM_Customer['Recency_Deciles'] = pd.qcut(df_RFM_Customer['Duration'], q =10)\n",
    "df_RFM_Customer.head(2)"
   ]
  },
  {
   "cell_type": "code",
   "execution_count": 192,
   "id": "61b76579",
   "metadata": {},
   "outputs": [
    {
     "data": {
      "text/plain": [
       "Recency_Deciles\n",
       "(21 days 06:40:59.999999999, 32 days 12:04:36]              5711857.73\n",
       "(32 days 12:04:36, 43 days 13:59:12]                        2968252.92\n",
       "(43 days 13:59:12, 61 days 10:34:24.000000001]              2275605.87\n",
       "(61 days 10:34:24.000000001, 87 days 18:32:36.000000017]    1533952.93\n",
       "(87 days 18:32:36.000000017, 135 days 08:26:00]             1262303.34\n",
       "(135 days 08:26:00, 216 days 09:30:36.000000004]             965468.29\n",
       "(216 days 09:30:36.000000004, 345 days 09:39:30]             586407.40\n",
       "(345 days 09:39:30, 436 days 12:19:24]                       536943.36\n",
       "(436 days 12:19:24, 557 days 12:04:00]                       398391.84\n",
       "(557 days 12:04:00, 1083 days 14:05:00]                      164913.60\n",
       "Name: Total_Rev, dtype: float64"
      ]
     },
     "execution_count": 192,
     "metadata": {},
     "output_type": "execute_result"
    }
   ],
   "source": [
    "# adding up all the Revenue generated in that Recency Decile Duration\n",
    "df_RFM_Analyze = df_RFM_Customer.groupby('Recency_Deciles')['Total_Rev'].sum()\n",
    "df_RFM_Analyze"
   ]
  },
  {
   "cell_type": "code",
   "execution_count": 193,
   "id": "105d044e",
   "metadata": {},
   "outputs": [
    {
     "data": {
      "text/html": [
       "<div>\n",
       "<style scoped>\n",
       "    .dataframe tbody tr th:only-of-type {\n",
       "        vertical-align: middle;\n",
       "    }\n",
       "\n",
       "    .dataframe tbody tr th {\n",
       "        vertical-align: top;\n",
       "    }\n",
       "\n",
       "    .dataframe thead th {\n",
       "        text-align: right;\n",
       "    }\n",
       "</style>\n",
       "<table border=\"1\" class=\"dataframe\">\n",
       "  <thead>\n",
       "    <tr style=\"text-align: right;\">\n",
       "      <th></th>\n",
       "      <th>Recency_Deciles</th>\n",
       "      <th>Total_Rev</th>\n",
       "    </tr>\n",
       "  </thead>\n",
       "  <tbody>\n",
       "    <tr>\n",
       "      <th>0</th>\n",
       "      <td>(21 days 06:40:59.999999999, 32 days 12:04:36]</td>\n",
       "      <td>5711857.73</td>\n",
       "    </tr>\n",
       "    <tr>\n",
       "      <th>1</th>\n",
       "      <td>(32 days 12:04:36, 43 days 13:59:12]</td>\n",
       "      <td>2968252.92</td>\n",
       "    </tr>\n",
       "    <tr>\n",
       "      <th>2</th>\n",
       "      <td>(43 days 13:59:12, 61 days 10:34:24.000000001]</td>\n",
       "      <td>2275605.87</td>\n",
       "    </tr>\n",
       "    <tr>\n",
       "      <th>3</th>\n",
       "      <td>(61 days 10:34:24.000000001, 87 days 18:32:36....</td>\n",
       "      <td>1533952.93</td>\n",
       "    </tr>\n",
       "    <tr>\n",
       "      <th>4</th>\n",
       "      <td>(87 days 18:32:36.000000017, 135 days 08:26:00]</td>\n",
       "      <td>1262303.34</td>\n",
       "    </tr>\n",
       "    <tr>\n",
       "      <th>5</th>\n",
       "      <td>(135 days 08:26:00, 216 days 09:30:36.000000004]</td>\n",
       "      <td>965468.29</td>\n",
       "    </tr>\n",
       "    <tr>\n",
       "      <th>6</th>\n",
       "      <td>(216 days 09:30:36.000000004, 345 days 09:39:30]</td>\n",
       "      <td>586407.40</td>\n",
       "    </tr>\n",
       "    <tr>\n",
       "      <th>7</th>\n",
       "      <td>(345 days 09:39:30, 436 days 12:19:24]</td>\n",
       "      <td>536943.36</td>\n",
       "    </tr>\n",
       "    <tr>\n",
       "      <th>8</th>\n",
       "      <td>(436 days 12:19:24, 557 days 12:04:00]</td>\n",
       "      <td>398391.84</td>\n",
       "    </tr>\n",
       "    <tr>\n",
       "      <th>9</th>\n",
       "      <td>(557 days 12:04:00, 1083 days 14:05:00]</td>\n",
       "      <td>164913.60</td>\n",
       "    </tr>\n",
       "  </tbody>\n",
       "</table>\n",
       "</div>"
      ],
      "text/plain": [
       "                                     Recency_Deciles   Total_Rev\n",
       "0     (21 days 06:40:59.999999999, 32 days 12:04:36]  5711857.73\n",
       "1               (32 days 12:04:36, 43 days 13:59:12]  2968252.92\n",
       "2     (43 days 13:59:12, 61 days 10:34:24.000000001]  2275605.87\n",
       "3  (61 days 10:34:24.000000001, 87 days 18:32:36....  1533952.93\n",
       "4    (87 days 18:32:36.000000017, 135 days 08:26:00]  1262303.34\n",
       "5   (135 days 08:26:00, 216 days 09:30:36.000000004]   965468.29\n",
       "6   (216 days 09:30:36.000000004, 345 days 09:39:30]   586407.40\n",
       "7             (345 days 09:39:30, 436 days 12:19:24]   536943.36\n",
       "8             (436 days 12:19:24, 557 days 12:04:00]   398391.84\n",
       "9            (557 days 12:04:00, 1083 days 14:05:00]   164913.60"
      ]
     },
     "execution_count": 193,
     "metadata": {},
     "output_type": "execute_result"
    }
   ],
   "source": [
    "# Converting it into a DataFrame and reseting index\n",
    "df_RFM_Analyze = pd.DataFrame(df_RFM_Analyze).reset_index()\n",
    "df_RFM_Analyze"
   ]
  },
  {
   "cell_type": "code",
   "execution_count": 194,
   "id": "ead79191",
   "metadata": {},
   "outputs": [],
   "source": [
    "# adding a column named as cumsum_Rev for cumulative revenue generated out of total Revenue based on that Recency_Deciles\n",
    "df_RFM_Analyze['CumSum_Rev'] = df_RFM_Analyze['Total_Rev'].cumsum()"
   ]
  },
  {
   "cell_type": "code",
   "execution_count": 195,
   "id": "090c0f96",
   "metadata": {},
   "outputs": [],
   "source": [
    "# adding a new column giving the max of Total Revenue which will help us in making percentage of total revenue\n",
    "df_RFM_Analyze['Total_Rev_Across_Deciles'] = df_RFM_Analyze['CumSum_Rev'].max()"
   ]
  },
  {
   "cell_type": "code",
   "execution_count": 196,
   "id": "9840e760",
   "metadata": {},
   "outputs": [],
   "source": [
    "# adding a new column which will give the percent of total revenue generated by that percentile of Duration\n",
    "df_RFM_Analyze['Perc_tot_rev'] = (df_RFM_Analyze['CumSum_Rev']/df_RFM_Analyze['Total_Rev_Across_Deciles'])"
   ]
  },
  {
   "cell_type": "code",
   "execution_count": 197,
   "id": "d3b58d72",
   "metadata": {},
   "outputs": [
    {
     "data": {
      "text/html": [
       "<div>\n",
       "<style scoped>\n",
       "    .dataframe tbody tr th:only-of-type {\n",
       "        vertical-align: middle;\n",
       "    }\n",
       "\n",
       "    .dataframe tbody tr th {\n",
       "        vertical-align: top;\n",
       "    }\n",
       "\n",
       "    .dataframe thead th {\n",
       "        text-align: right;\n",
       "    }\n",
       "</style>\n",
       "<table border=\"1\" class=\"dataframe\">\n",
       "  <thead>\n",
       "    <tr style=\"text-align: right;\">\n",
       "      <th></th>\n",
       "      <th>Recency_Deciles</th>\n",
       "      <th>Total_Rev</th>\n",
       "      <th>CumSum_Rev</th>\n",
       "      <th>Total_Rev_Across_Deciles</th>\n",
       "      <th>Perc_tot_rev</th>\n",
       "    </tr>\n",
       "  </thead>\n",
       "  <tbody>\n",
       "    <tr>\n",
       "      <th>0</th>\n",
       "      <td>(21 days 06:40:59.999999999, 32 days 12:04:36]</td>\n",
       "      <td>5711857.73</td>\n",
       "      <td>5711857.73</td>\n",
       "      <td>16404097.28</td>\n",
       "      <td>0.348197</td>\n",
       "    </tr>\n",
       "    <tr>\n",
       "      <th>1</th>\n",
       "      <td>(32 days 12:04:36, 43 days 13:59:12]</td>\n",
       "      <td>2968252.92</td>\n",
       "      <td>8680110.65</td>\n",
       "      <td>16404097.28</td>\n",
       "      <td>0.529143</td>\n",
       "    </tr>\n",
       "    <tr>\n",
       "      <th>2</th>\n",
       "      <td>(43 days 13:59:12, 61 days 10:34:24.000000001]</td>\n",
       "      <td>2275605.87</td>\n",
       "      <td>10955716.52</td>\n",
       "      <td>16404097.28</td>\n",
       "      <td>0.667865</td>\n",
       "    </tr>\n",
       "    <tr>\n",
       "      <th>3</th>\n",
       "      <td>(61 days 10:34:24.000000001, 87 days 18:32:36....</td>\n",
       "      <td>1533952.93</td>\n",
       "      <td>12489669.45</td>\n",
       "      <td>16404097.28</td>\n",
       "      <td>0.761375</td>\n",
       "    </tr>\n",
       "    <tr>\n",
       "      <th>4</th>\n",
       "      <td>(87 days 18:32:36.000000017, 135 days 08:26:00]</td>\n",
       "      <td>1262303.34</td>\n",
       "      <td>13751972.79</td>\n",
       "      <td>16404097.28</td>\n",
       "      <td>0.838325</td>\n",
       "    </tr>\n",
       "    <tr>\n",
       "      <th>5</th>\n",
       "      <td>(135 days 08:26:00, 216 days 09:30:36.000000004]</td>\n",
       "      <td>965468.29</td>\n",
       "      <td>14717441.08</td>\n",
       "      <td>16404097.28</td>\n",
       "      <td>0.897181</td>\n",
       "    </tr>\n",
       "    <tr>\n",
       "      <th>6</th>\n",
       "      <td>(216 days 09:30:36.000000004, 345 days 09:39:30]</td>\n",
       "      <td>586407.40</td>\n",
       "      <td>15303848.48</td>\n",
       "      <td>16404097.28</td>\n",
       "      <td>0.932928</td>\n",
       "    </tr>\n",
       "    <tr>\n",
       "      <th>7</th>\n",
       "      <td>(345 days 09:39:30, 436 days 12:19:24]</td>\n",
       "      <td>536943.36</td>\n",
       "      <td>15840791.84</td>\n",
       "      <td>16404097.28</td>\n",
       "      <td>0.965661</td>\n",
       "    </tr>\n",
       "    <tr>\n",
       "      <th>8</th>\n",
       "      <td>(436 days 12:19:24, 557 days 12:04:00]</td>\n",
       "      <td>398391.84</td>\n",
       "      <td>16239183.68</td>\n",
       "      <td>16404097.28</td>\n",
       "      <td>0.989947</td>\n",
       "    </tr>\n",
       "    <tr>\n",
       "      <th>9</th>\n",
       "      <td>(557 days 12:04:00, 1083 days 14:05:00]</td>\n",
       "      <td>164913.60</td>\n",
       "      <td>16404097.28</td>\n",
       "      <td>16404097.28</td>\n",
       "      <td>1.000000</td>\n",
       "    </tr>\n",
       "  </tbody>\n",
       "</table>\n",
       "</div>"
      ],
      "text/plain": [
       "                                     Recency_Deciles   Total_Rev   CumSum_Rev  \\\n",
       "0     (21 days 06:40:59.999999999, 32 days 12:04:36]  5711857.73   5711857.73   \n",
       "1               (32 days 12:04:36, 43 days 13:59:12]  2968252.92   8680110.65   \n",
       "2     (43 days 13:59:12, 61 days 10:34:24.000000001]  2275605.87  10955716.52   \n",
       "3  (61 days 10:34:24.000000001, 87 days 18:32:36....  1533952.93  12489669.45   \n",
       "4    (87 days 18:32:36.000000017, 135 days 08:26:00]  1262303.34  13751972.79   \n",
       "5   (135 days 08:26:00, 216 days 09:30:36.000000004]   965468.29  14717441.08   \n",
       "6   (216 days 09:30:36.000000004, 345 days 09:39:30]   586407.40  15303848.48   \n",
       "7             (345 days 09:39:30, 436 days 12:19:24]   536943.36  15840791.84   \n",
       "8             (436 days 12:19:24, 557 days 12:04:00]   398391.84  16239183.68   \n",
       "9            (557 days 12:04:00, 1083 days 14:05:00]   164913.60  16404097.28   \n",
       "\n",
       "   Total_Rev_Across_Deciles  Perc_tot_rev  \n",
       "0               16404097.28      0.348197  \n",
       "1               16404097.28      0.529143  \n",
       "2               16404097.28      0.667865  \n",
       "3               16404097.28      0.761375  \n",
       "4               16404097.28      0.838325  \n",
       "5               16404097.28      0.897181  \n",
       "6               16404097.28      0.932928  \n",
       "7               16404097.28      0.965661  \n",
       "8               16404097.28      0.989947  \n",
       "9               16404097.28      1.000000  "
      ]
     },
     "execution_count": 197,
     "metadata": {},
     "output_type": "execute_result"
    }
   ],
   "source": [
    "df_RFM_Analyze"
   ]
  },
  {
   "cell_type": "code",
   "execution_count": null,
   "id": "f10b43bc",
   "metadata": {},
   "outputs": [],
   "source": []
  },
  {
   "cell_type": "markdown",
   "id": "0c2feb31",
   "metadata": {},
   "source": [
    "# Task 3"
   ]
  },
  {
   "cell_type": "markdown",
   "id": "81bc03a1",
   "metadata": {},
   "source": [
    "**Lastly you will need to find the recency of the last purchase. This can be computed by finding the number of days that have elapsed from the last purchase each customer has made. You can use a base date of 01/01/2012 to compute recency. Find out the number of days elapsed from 01/01/2012 for each customer's most recent purchase.**"
   ]
  },
  {
   "cell_type": "code",
   "execution_count": 198,
   "id": "d162f9d5",
   "metadata": {},
   "outputs": [
    {
     "data": {
      "text/html": [
       "<div>\n",
       "<style scoped>\n",
       "    .dataframe tbody tr th:only-of-type {\n",
       "        vertical-align: middle;\n",
       "    }\n",
       "\n",
       "    .dataframe tbody tr th {\n",
       "        vertical-align: top;\n",
       "    }\n",
       "\n",
       "    .dataframe thead th {\n",
       "        text-align: right;\n",
       "    }\n",
       "</style>\n",
       "<table border=\"1\" class=\"dataframe\">\n",
       "  <thead>\n",
       "    <tr style=\"text-align: right;\">\n",
       "      <th></th>\n",
       "      <th>Customer ID</th>\n",
       "      <th>Duration</th>\n",
       "      <th>Freq</th>\n",
       "      <th>Total_Rev</th>\n",
       "      <th>Avg_Rev</th>\n",
       "      <th>Recency_Deciles</th>\n",
       "    </tr>\n",
       "  </thead>\n",
       "  <tbody>\n",
       "    <tr>\n",
       "      <th>0</th>\n",
       "      <td>18287.0</td>\n",
       "      <td>21 days 13:37:00</td>\n",
       "      <td>156</td>\n",
       "      <td>4177.89</td>\n",
       "      <td>26.781346</td>\n",
       "      <td>(21 days 06:40:59.999999999, 32 days 12:04:36]</td>\n",
       "    </tr>\n",
       "    <tr>\n",
       "      <th>1</th>\n",
       "      <td>18286.0</td>\n",
       "      <td>498 days 12:03:00</td>\n",
       "      <td>70</td>\n",
       "      <td>1188.43</td>\n",
       "      <td>16.977571</td>\n",
       "      <td>(436 days 12:19:24, 557 days 12:04:00]</td>\n",
       "    </tr>\n",
       "  </tbody>\n",
       "</table>\n",
       "</div>"
      ],
      "text/plain": [
       "   Customer ID          Duration  Freq  Total_Rev    Avg_Rev  \\\n",
       "0      18287.0  21 days 13:37:00   156    4177.89  26.781346   \n",
       "1      18286.0 498 days 12:03:00    70    1188.43  16.977571   \n",
       "\n",
       "                                  Recency_Deciles  \n",
       "0  (21 days 06:40:59.999999999, 32 days 12:04:36]  \n",
       "1          (436 days 12:19:24, 557 days 12:04:00]  "
      ]
     },
     "execution_count": 198,
     "metadata": {},
     "output_type": "execute_result"
    }
   ],
   "source": [
    "df_RFM_Customer.head(2)"
   ]
  },
  {
   "cell_type": "code",
   "execution_count": 199,
   "id": "416b788b",
   "metadata": {},
   "outputs": [
    {
     "data": {
      "text/plain": [
       "0    (114.0, 180.0]\n",
       "1      (53.0, 76.0]\n",
       "Name: Freq_Deciles, dtype: category\n",
       "Categories (10, interval[float64, right]): [(0.999, 8.0] < (8.0, 16.0] < (16.0, 25.0] < (25.0, 37.0] ... (76.0, 114.0] < (114.0, 180.0] < (180.0, 319.7] < (319.7, 12780.0]]"
      ]
     },
     "execution_count": 199,
     "metadata": {},
     "output_type": "execute_result"
    }
   ],
   "source": [
    "# Creating a column for getting frequency Decile and making 10 quantiles\n",
    "df_RFM_Customer['Freq_Deciles'] = pd.qcut(df_RFM_Customer['Freq'], q = 10)\n",
    "df_RFM_Customer['Freq_Deciles'].head(2)"
   ]
  },
  {
   "cell_type": "code",
   "execution_count": 200,
   "id": "897a1828",
   "metadata": {},
   "outputs": [
    {
     "data": {
      "text/html": [
       "<div>\n",
       "<style scoped>\n",
       "    .dataframe tbody tr th:only-of-type {\n",
       "        vertical-align: middle;\n",
       "    }\n",
       "\n",
       "    .dataframe tbody tr th {\n",
       "        vertical-align: top;\n",
       "    }\n",
       "\n",
       "    .dataframe thead th {\n",
       "        text-align: right;\n",
       "    }\n",
       "</style>\n",
       "<table border=\"1\" class=\"dataframe\">\n",
       "  <thead>\n",
       "    <tr style=\"text-align: right;\">\n",
       "      <th></th>\n",
       "      <th>Customer ID</th>\n",
       "      <th>Duration</th>\n",
       "      <th>Freq</th>\n",
       "      <th>Total_Rev</th>\n",
       "      <th>Avg_Rev</th>\n",
       "      <th>Recency_Deciles</th>\n",
       "      <th>Freq_Deciles</th>\n",
       "    </tr>\n",
       "  </thead>\n",
       "  <tbody>\n",
       "    <tr>\n",
       "      <th>0</th>\n",
       "      <td>18287.0</td>\n",
       "      <td>21 days 13:37:00</td>\n",
       "      <td>156</td>\n",
       "      <td>4177.89</td>\n",
       "      <td>26.781346</td>\n",
       "      <td>(21 days 06:40:59.999999999, 32 days 12:04:36]</td>\n",
       "      <td>(114.0, 180.0]</td>\n",
       "    </tr>\n",
       "    <tr>\n",
       "      <th>1</th>\n",
       "      <td>18286.0</td>\n",
       "      <td>498 days 12:03:00</td>\n",
       "      <td>70</td>\n",
       "      <td>1188.43</td>\n",
       "      <td>16.977571</td>\n",
       "      <td>(436 days 12:19:24, 557 days 12:04:00]</td>\n",
       "      <td>(53.0, 76.0]</td>\n",
       "    </tr>\n",
       "  </tbody>\n",
       "</table>\n",
       "</div>"
      ],
      "text/plain": [
       "   Customer ID          Duration  Freq  Total_Rev    Avg_Rev  \\\n",
       "0      18287.0  21 days 13:37:00   156    4177.89  26.781346   \n",
       "1      18286.0 498 days 12:03:00    70    1188.43  16.977571   \n",
       "\n",
       "                                  Recency_Deciles    Freq_Deciles  \n",
       "0  (21 days 06:40:59.999999999, 32 days 12:04:36]  (114.0, 180.0]  \n",
       "1          (436 days 12:19:24, 557 days 12:04:00]    (53.0, 76.0]  "
      ]
     },
     "execution_count": 200,
     "metadata": {},
     "output_type": "execute_result"
    }
   ],
   "source": [
    "df_RFM_Customer.head(2)"
   ]
  },
  {
   "cell_type": "code",
   "execution_count": 201,
   "id": "94dbb544",
   "metadata": {},
   "outputs": [
    {
     "data": {
      "text/plain": [
       "Freq_Deciles\n",
       "(0.999, 8.0]     72193.16\n",
       "(8.0, 16.0]     242098.13\n",
       "Name: Total_Rev, dtype: float64"
      ]
     },
     "execution_count": 201,
     "metadata": {},
     "output_type": "execute_result"
    }
   ],
   "source": [
    "# developing a new data with 10 quantiles of Frequency Deciles and summing up all the Revenue(total_Revenue)\n",
    "df_subset = df_RFM_Customer.groupby('Freq_Deciles')['Total_Rev'].sum()\n",
    "df_subset.head(2)"
   ]
  },
  {
   "cell_type": "code",
   "execution_count": 202,
   "id": "3646e842",
   "metadata": {},
   "outputs": [
    {
     "data": {
      "text/html": [
       "<div>\n",
       "<style scoped>\n",
       "    .dataframe tbody tr th:only-of-type {\n",
       "        vertical-align: middle;\n",
       "    }\n",
       "\n",
       "    .dataframe tbody tr th {\n",
       "        vertical-align: top;\n",
       "    }\n",
       "\n",
       "    .dataframe thead th {\n",
       "        text-align: right;\n",
       "    }\n",
       "</style>\n",
       "<table border=\"1\" class=\"dataframe\">\n",
       "  <thead>\n",
       "    <tr style=\"text-align: right;\">\n",
       "      <th></th>\n",
       "      <th>Total_Rev</th>\n",
       "    </tr>\n",
       "    <tr>\n",
       "      <th>Freq_Deciles</th>\n",
       "      <th></th>\n",
       "    </tr>\n",
       "  </thead>\n",
       "  <tbody>\n",
       "    <tr>\n",
       "      <th>(0.999, 8.0]</th>\n",
       "      <td>72193.16</td>\n",
       "    </tr>\n",
       "    <tr>\n",
       "      <th>(8.0, 16.0]</th>\n",
       "      <td>242098.13</td>\n",
       "    </tr>\n",
       "  </tbody>\n",
       "</table>\n",
       "</div>"
      ],
      "text/plain": [
       "              Total_Rev\n",
       "Freq_Deciles           \n",
       "(0.999, 8.0]   72193.16\n",
       "(8.0, 16.0]   242098.13"
      ]
     },
     "execution_count": 202,
     "metadata": {},
     "output_type": "execute_result"
    }
   ],
   "source": [
    "# Creating a DataFrame out of the new data\n",
    "df_subset = pd.DataFrame(df_subset)\n",
    "df_subset.head(2)"
   ]
  },
  {
   "cell_type": "code",
   "execution_count": 203,
   "id": "ff0f56c4",
   "metadata": {},
   "outputs": [
    {
     "data": {
      "text/html": [
       "<div>\n",
       "<style scoped>\n",
       "    .dataframe tbody tr th:only-of-type {\n",
       "        vertical-align: middle;\n",
       "    }\n",
       "\n",
       "    .dataframe tbody tr th {\n",
       "        vertical-align: top;\n",
       "    }\n",
       "\n",
       "    .dataframe thead th {\n",
       "        text-align: right;\n",
       "    }\n",
       "</style>\n",
       "<table border=\"1\" class=\"dataframe\">\n",
       "  <thead>\n",
       "    <tr style=\"text-align: right;\">\n",
       "      <th></th>\n",
       "      <th>Freq_Deciles</th>\n",
       "      <th>Total_Rev</th>\n",
       "    </tr>\n",
       "  </thead>\n",
       "  <tbody>\n",
       "    <tr>\n",
       "      <th>0</th>\n",
       "      <td>(0.999, 8.0]</td>\n",
       "      <td>72193.16</td>\n",
       "    </tr>\n",
       "    <tr>\n",
       "      <th>1</th>\n",
       "      <td>(8.0, 16.0]</td>\n",
       "      <td>242098.13</td>\n",
       "    </tr>\n",
       "  </tbody>\n",
       "</table>\n",
       "</div>"
      ],
      "text/plain": [
       "   Freq_Deciles  Total_Rev\n",
       "0  (0.999, 8.0]   72193.16\n",
       "1   (8.0, 16.0]  242098.13"
      ]
     },
     "execution_count": 203,
     "metadata": {},
     "output_type": "execute_result"
    }
   ],
   "source": [
    "#  Reseting data set to take the frequency decile column out of index\n",
    "df_subset = df_subset.reset_index()\n",
    "df_subset.head(2)"
   ]
  },
  {
   "cell_type": "code",
   "execution_count": 204,
   "id": "495aab8a",
   "metadata": {},
   "outputs": [
    {
     "data": {
      "text/html": [
       "<div>\n",
       "<style scoped>\n",
       "    .dataframe tbody tr th:only-of-type {\n",
       "        vertical-align: middle;\n",
       "    }\n",
       "\n",
       "    .dataframe tbody tr th {\n",
       "        vertical-align: top;\n",
       "    }\n",
       "\n",
       "    .dataframe thead th {\n",
       "        text-align: right;\n",
       "    }\n",
       "</style>\n",
       "<table border=\"1\" class=\"dataframe\">\n",
       "  <thead>\n",
       "    <tr style=\"text-align: right;\">\n",
       "      <th></th>\n",
       "      <th>Freq_Deciles</th>\n",
       "      <th>Total_Rev</th>\n",
       "      <th>CumSum</th>\n",
       "    </tr>\n",
       "  </thead>\n",
       "  <tbody>\n",
       "    <tr>\n",
       "      <th>0</th>\n",
       "      <td>(0.999, 8.0]</td>\n",
       "      <td>72193.16</td>\n",
       "      <td>72193.16</td>\n",
       "    </tr>\n",
       "    <tr>\n",
       "      <th>1</th>\n",
       "      <td>(8.0, 16.0]</td>\n",
       "      <td>242098.13</td>\n",
       "      <td>314291.29</td>\n",
       "    </tr>\n",
       "  </tbody>\n",
       "</table>\n",
       "</div>"
      ],
      "text/plain": [
       "   Freq_Deciles  Total_Rev     CumSum\n",
       "0  (0.999, 8.0]   72193.16   72193.16\n",
       "1   (8.0, 16.0]  242098.13  314291.29"
      ]
     },
     "execution_count": 204,
     "metadata": {},
     "output_type": "execute_result"
    }
   ],
   "source": [
    "# adding a fresh column named as cumsum for getting the cumulative summation of total revenue generated in that perticular decile\n",
    "df_subset['CumSum']= df_subset['Total_Rev'].cumsum()\n",
    "df_subset.head(2)"
   ]
  },
  {
   "cell_type": "code",
   "execution_count": 205,
   "id": "8c09552d",
   "metadata": {},
   "outputs": [
    {
     "data": {
      "text/html": [
       "<div>\n",
       "<style scoped>\n",
       "    .dataframe tbody tr th:only-of-type {\n",
       "        vertical-align: middle;\n",
       "    }\n",
       "\n",
       "    .dataframe tbody tr th {\n",
       "        vertical-align: top;\n",
       "    }\n",
       "\n",
       "    .dataframe thead th {\n",
       "        text-align: right;\n",
       "    }\n",
       "</style>\n",
       "<table border=\"1\" class=\"dataframe\">\n",
       "  <thead>\n",
       "    <tr style=\"text-align: right;\">\n",
       "      <th></th>\n",
       "      <th>Freq_Deciles</th>\n",
       "      <th>Total_Rev</th>\n",
       "      <th>CumSum</th>\n",
       "      <th>Total</th>\n",
       "    </tr>\n",
       "  </thead>\n",
       "  <tbody>\n",
       "    <tr>\n",
       "      <th>0</th>\n",
       "      <td>(0.999, 8.0]</td>\n",
       "      <td>72193.16</td>\n",
       "      <td>72193.16</td>\n",
       "      <td>16404097.28</td>\n",
       "    </tr>\n",
       "    <tr>\n",
       "      <th>1</th>\n",
       "      <td>(8.0, 16.0]</td>\n",
       "      <td>242098.13</td>\n",
       "      <td>314291.29</td>\n",
       "      <td>16404097.28</td>\n",
       "    </tr>\n",
       "  </tbody>\n",
       "</table>\n",
       "</div>"
      ],
      "text/plain": [
       "   Freq_Deciles  Total_Rev     CumSum        Total\n",
       "0  (0.999, 8.0]   72193.16   72193.16  16404097.28\n",
       "1   (8.0, 16.0]  242098.13  314291.29  16404097.28"
      ]
     },
     "execution_count": 205,
     "metadata": {},
     "output_type": "execute_result"
    }
   ],
   "source": [
    "# adding a fresh column named as Total which will be helpfull for taking out the percentage of that perticular decile\n",
    "df_subset['Total'] = df_subset['CumSum'].max()\n",
    "df_subset.head(2)"
   ]
  },
  {
   "cell_type": "code",
   "execution_count": 206,
   "id": "ef3186fb",
   "metadata": {},
   "outputs": [],
   "source": [
    "# finding the percentage total\n",
    "df_subset['Perc_Total'] = df_subset['CumSum']/df_subset['Total']"
   ]
  },
  {
   "cell_type": "code",
   "execution_count": 207,
   "id": "738de9ac",
   "metadata": {},
   "outputs": [
    {
     "data": {
      "text/html": [
       "<div>\n",
       "<style scoped>\n",
       "    .dataframe tbody tr th:only-of-type {\n",
       "        vertical-align: middle;\n",
       "    }\n",
       "\n",
       "    .dataframe tbody tr th {\n",
       "        vertical-align: top;\n",
       "    }\n",
       "\n",
       "    .dataframe thead th {\n",
       "        text-align: right;\n",
       "    }\n",
       "</style>\n",
       "<table border=\"1\" class=\"dataframe\">\n",
       "  <thead>\n",
       "    <tr style=\"text-align: right;\">\n",
       "      <th></th>\n",
       "      <th>Freq_Deciles</th>\n",
       "      <th>Total_Rev</th>\n",
       "      <th>CumSum</th>\n",
       "      <th>Total</th>\n",
       "      <th>Perc_Total</th>\n",
       "    </tr>\n",
       "  </thead>\n",
       "  <tbody>\n",
       "    <tr>\n",
       "      <th>0</th>\n",
       "      <td>(0.999, 8.0]</td>\n",
       "      <td>72193.16</td>\n",
       "      <td>72193.16</td>\n",
       "      <td>16404097.28</td>\n",
       "      <td>0.004401</td>\n",
       "    </tr>\n",
       "    <tr>\n",
       "      <th>1</th>\n",
       "      <td>(8.0, 16.0]</td>\n",
       "      <td>242098.13</td>\n",
       "      <td>314291.29</td>\n",
       "      <td>16404097.28</td>\n",
       "      <td>0.019159</td>\n",
       "    </tr>\n",
       "    <tr>\n",
       "      <th>2</th>\n",
       "      <td>(16.0, 25.0]</td>\n",
       "      <td>274574.73</td>\n",
       "      <td>588866.02</td>\n",
       "      <td>16404097.28</td>\n",
       "      <td>0.035897</td>\n",
       "    </tr>\n",
       "    <tr>\n",
       "      <th>3</th>\n",
       "      <td>(25.0, 37.0]</td>\n",
       "      <td>383583.74</td>\n",
       "      <td>972449.76</td>\n",
       "      <td>16404097.28</td>\n",
       "      <td>0.059281</td>\n",
       "    </tr>\n",
       "    <tr>\n",
       "      <th>4</th>\n",
       "      <td>(37.0, 53.0]</td>\n",
       "      <td>603851.61</td>\n",
       "      <td>1576301.37</td>\n",
       "      <td>16404097.28</td>\n",
       "      <td>0.096092</td>\n",
       "    </tr>\n",
       "    <tr>\n",
       "      <th>5</th>\n",
       "      <td>(53.0, 76.0]</td>\n",
       "      <td>773353.64</td>\n",
       "      <td>2349655.01</td>\n",
       "      <td>16404097.28</td>\n",
       "      <td>0.143236</td>\n",
       "    </tr>\n",
       "    <tr>\n",
       "      <th>6</th>\n",
       "      <td>(76.0, 114.0]</td>\n",
       "      <td>1070299.19</td>\n",
       "      <td>3419954.20</td>\n",
       "      <td>16404097.28</td>\n",
       "      <td>0.208482</td>\n",
       "    </tr>\n",
       "    <tr>\n",
       "      <th>7</th>\n",
       "      <td>(114.0, 180.0]</td>\n",
       "      <td>1630626.02</td>\n",
       "      <td>5050580.22</td>\n",
       "      <td>16404097.28</td>\n",
       "      <td>0.307885</td>\n",
       "    </tr>\n",
       "    <tr>\n",
       "      <th>8</th>\n",
       "      <td>(180.0, 319.7]</td>\n",
       "      <td>2761936.17</td>\n",
       "      <td>7812516.39</td>\n",
       "      <td>16404097.28</td>\n",
       "      <td>0.476254</td>\n",
       "    </tr>\n",
       "    <tr>\n",
       "      <th>9</th>\n",
       "      <td>(319.7, 12780.0]</td>\n",
       "      <td>8591580.89</td>\n",
       "      <td>16404097.28</td>\n",
       "      <td>16404097.28</td>\n",
       "      <td>1.000000</td>\n",
       "    </tr>\n",
       "  </tbody>\n",
       "</table>\n",
       "</div>"
      ],
      "text/plain": [
       "       Freq_Deciles   Total_Rev       CumSum        Total  Perc_Total\n",
       "0      (0.999, 8.0]    72193.16     72193.16  16404097.28    0.004401\n",
       "1       (8.0, 16.0]   242098.13    314291.29  16404097.28    0.019159\n",
       "2      (16.0, 25.0]   274574.73    588866.02  16404097.28    0.035897\n",
       "3      (25.0, 37.0]   383583.74    972449.76  16404097.28    0.059281\n",
       "4      (37.0, 53.0]   603851.61   1576301.37  16404097.28    0.096092\n",
       "5      (53.0, 76.0]   773353.64   2349655.01  16404097.28    0.143236\n",
       "6     (76.0, 114.0]  1070299.19   3419954.20  16404097.28    0.208482\n",
       "7    (114.0, 180.0]  1630626.02   5050580.22  16404097.28    0.307885\n",
       "8    (180.0, 319.7]  2761936.17   7812516.39  16404097.28    0.476254\n",
       "9  (319.7, 12780.0]  8591580.89  16404097.28  16404097.28    1.000000"
      ]
     },
     "execution_count": 207,
     "metadata": {},
     "output_type": "execute_result"
    }
   ],
   "source": [
    "df_subset"
   ]
  },
  {
   "cell_type": "code",
   "execution_count": null,
   "id": "2c173c1f",
   "metadata": {},
   "outputs": [],
   "source": []
  },
  {
   "cell_type": "code",
   "execution_count": null,
   "id": "ca35524b",
   "metadata": {},
   "outputs": [],
   "source": []
  }
 ],
 "metadata": {
  "kernelspec": {
   "display_name": "Python 3 (ipykernel)",
   "language": "python",
   "name": "python3"
  },
  "language_info": {
   "codemirror_mode": {
    "name": "ipython",
    "version": 3
   },
   "file_extension": ".py",
   "mimetype": "text/x-python",
   "name": "python",
   "nbconvert_exporter": "python",
   "pygments_lexer": "ipython3",
   "version": "3.9.12"
  }
 },
 "nbformat": 4,
 "nbformat_minor": 5
}
